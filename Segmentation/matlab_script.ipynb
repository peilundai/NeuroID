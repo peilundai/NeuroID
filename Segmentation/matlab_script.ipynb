{
 "cells": [
  {
   "cell_type": "code",
   "execution_count": null,
   "metadata": {},
   "outputs": [],
   "source": [
    "addpath(genpath('/Users/pdai/Desktop/NeRVEclustering-master'))"
   ]
  },
  {
   "cell_type": "code",
   "execution_count": 2,
   "metadata": {},
   "outputs": [
    {
     "name": "stdout",
     "output_type": "stream",
     "text": [
      "  Name           Size                       Bytes  Class     Attributes\n",
      "\n",
      "  RFP_worm      27x2048x2048            905969664  double              \n",
      "\n"
     ]
    }
   ],
   "source": [
    "load('RFP_wormhead.mat')\n",
    "whos"
   ]
  },
  {
   "cell_type": "code",
   "execution_count": 3,
   "metadata": {},
   "outputs": [],
   "source": [
    "resized_image = imresize3(RFP_worm, [27 512 512]);"
   ]
  },
  {
   "cell_type": "code",
   "execution_count": 4,
   "metadata": {},
   "outputs": [
    {
     "name": "stdout",
     "output_type": "stream",
     "text": [
      "  Name                Size                       Bytes  Class     Attributes\n",
      "\n",
      "  RFP_worm           27x2048x2048            905969664  double              \n",
      "  resized_image      27x512x512               56623104  double              \n",
      "\n"
     ]
    }
   ],
   "source": [
    "whos"
   ]
  },
  {
   "cell_type": "code",
   "execution_count": 5,
   "metadata": {},
   "outputs": [],
   "source": [
    "[im_bw_out,im_smooth] = WormSegmentHessian3dStraighten(resized_image,[]);"
   ]
  },
  {
   "cell_type": "code",
   "execution_count": 6,
   "metadata": {},
   "outputs": [
    {
     "name": "stdout",
     "output_type": "stream",
     "text": [
      "  Name                Size                       Bytes  Class     Attributes\n",
      "\n",
      "  RFP_worm           27x2048x2048            905969664  double              \n",
      "  im_bw_out          27x512x512               56623104  double              \n",
      "  im_smooth          27x512x512               56623104  double              \n",
      "  resized_image      27x512x512               56623104  double              \n",
      "\n"
     ]
    }
   ],
   "source": [
    "whos"
   ]
  },
  {
   "cell_type": "code",
   "execution_count": 8,
   "metadata": {},
   "outputs": [],
   "source": [
    "save('im_bw_out.mat', 'im_bw_out')"
   ]
  },
  {
   "cell_type": "code",
   "execution_count": 9,
   "metadata": {},
   "outputs": [],
   "source": [
    "save('im_smooth.mat', 'im_smooth')"
   ]
  },
  {
   "cell_type": "code",
   "execution_count": null,
   "metadata": {},
   "outputs": [],
   "source": []
  }
 ],
 "metadata": {
  "anaconda-cloud": {},
  "kernelspec": {
   "display_name": "Matlab",
   "language": "matlab",
   "name": "matlab"
  },
  "language_info": {
   "codemirror_mode": "octave",
   "file_extension": ".m",
   "mimetype": "text/x-matlab",
   "name": "matlab",
   "nbconvert_exporter": "imatlab._exporter.MatlabExporter",
   "pygments_lexer": "matlab",
   "version": "9.4.0.813654 (R2018a)"
  }
 },
 "nbformat": 4,
 "nbformat_minor": 2
}
