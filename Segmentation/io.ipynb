{
 "cells": [
  {
   "cell_type": "code",
   "execution_count": 2,
   "metadata": {},
   "outputs": [],
   "source": [
    "import os\n",
    "import numpy as np\n",
    "import scipy\n",
    "import itk\n",
    "import sys\n",
    "import matplotlib.pyplot as plt\n",
    "from __future__ import print_function\n",
    "%matplotlib notebook\n",
    "from mpl_toolkits import mplot3d\n",
    "import cv2\n",
    "import skimage\n",
    "import skimage.io\n",
    "import mayavi\n",
    "import SimpleITK as sitk\n",
    "import mayavi"
   ]
  },
  {
   "cell_type": "code",
   "execution_count": 21,
   "metadata": {},
   "outputs": [],
   "source": [
    "file_path = '/Users/pdai/Desktop/NeRVEclustering-master/my_data/40xhead.tif'\n",
    "im = skimage.io.imread(file_path)"
   ]
  },
  {
   "cell_type": "code",
   "execution_count": 23,
   "metadata": {},
   "outputs": [],
   "source": [
    "im = im[:,:,:,0]"
   ]
  },
  {
   "cell_type": "code",
   "execution_count": 32,
   "metadata": {},
   "outputs": [
    {
     "data": {
      "text/plain": [
       "0.013435700575815739"
      ]
     },
     "execution_count": 32,
     "metadata": {},
     "output_type": "execute_result"
    }
   ],
   "source": [
    "# image = im[:,:,:,0]\n",
    "im = im/im.max()\n"
   ]
  },
  {
   "cell_type": "code",
   "execution_count": 11,
   "metadata": {},
   "outputs": [],
   "source": [
    "mat_file_path = '/Users/pdai/Desktop/NeRVEclustering-master/my_data/im_smooth.mat'\n",
    "from scipy.io import loadmat\n",
    "# one-liner to read a single variable\n",
    "image = loadmat('im_bw_out.mat')['im_bw_out']"
   ]
  },
  {
   "cell_type": "code",
   "execution_count": 34,
   "metadata": {},
   "outputs": [
    {
     "data": {
      "text/plain": [
       "0.0"
      ]
     },
     "execution_count": 34,
     "metadata": {},
     "output_type": "execute_result"
    }
   ],
   "source": [
    "# image = im[:,:,:,0]\n",
    "image = image/image.max()"
   ]
  },
  {
   "cell_type": "code",
   "execution_count": 13,
   "metadata": {},
   "outputs": [],
   "source": [
    "import scipy.io as sio\n",
    "sio.savemat('RFP_wormhead.mat', {'RFP_worm':image})"
   ]
  },
  {
   "cell_type": "code",
   "execution_count": 14,
   "metadata": {},
   "outputs": [],
   "source": [
    "import neuroglancer"
   ]
  },
  {
   "cell_type": "code",
   "execution_count": 35,
   "metadata": {},
   "outputs": [
    {
     "name": "stdout",
     "output_type": "stream",
     "text": [
      "http://127.0.0.1:9991/v/6c4f2c997cb92129e659dbdf9cb1246adbfd3960/\n"
     ]
    }
   ],
   "source": [
    "import neuroglancer\n",
    "import h5py\n",
    "import numpy as np\n",
    "import sys\n",
    "\n",
    "# 1. get data\n",
    "# with h5py.File('../data/SNEMI3D/train-input'+suf+'.h5') as fid:\n",
    "#    img = np.array(fid['main'])\n",
    "\n",
    "neuroglancer.set_server_bind_address(bind_port=9991)\n",
    "\n",
    "viewer=neuroglancer.Viewer()\n",
    "voxel_size=[4,4,40]  # resolution\n",
    "with viewer.txn() as s:\n",
    "    s.voxel_size=voxel_size\n",
    "    s.layers.append(\n",
    "       name='im',\n",
    "       layer=neuroglancer.LocalVolume(\n",
    "           data=image,\n",
    "           voxel_size=voxel_size,\n",
    "       ))\n",
    "    s.layers.append(\n",
    "       name='im2',\n",
    "       layer=neuroglancer.LocalVolume(\n",
    "           data=im,\n",
    "           voxel_size=voxel_size,\n",
    "       ))\n",
    "\n",
    "\n",
    "print(viewer)"
   ]
  },
  {
   "cell_type": "code",
   "execution_count": null,
   "metadata": {},
   "outputs": [],
   "source": []
  }
 ],
 "metadata": {
  "anaconda-cloud": {},
  "kernelspec": {
   "display_name": "Python [conda env:anaconda]",
   "language": "python",
   "name": "conda-env-anaconda-py"
  },
  "language_info": {
   "codemirror_mode": {
    "name": "ipython",
    "version": 3
   },
   "file_extension": ".py",
   "mimetype": "text/x-python",
   "name": "python",
   "nbconvert_exporter": "python",
   "pygments_lexer": "ipython3",
   "version": "3.5.5"
  }
 },
 "nbformat": 4,
 "nbformat_minor": 2
}
